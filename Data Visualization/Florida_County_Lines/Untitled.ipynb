{
 "cells": [
  {
   "cell_type": "code",
   "execution_count": 1,
   "id": "556f0d5e",
   "metadata": {},
   "outputs": [],
   "source": [
    "import geopandas as gpd"
   ]
  },
  {
   "cell_type": "code",
   "execution_count": 2,
   "id": "808ab216",
   "metadata": {},
   "outputs": [
    {
     "data": {
      "text/html": [
       "<div>\n",
       "<style scoped>\n",
       "    .dataframe tbody tr th:only-of-type {\n",
       "        vertical-align: middle;\n",
       "    }\n",
       "\n",
       "    .dataframe tbody tr th {\n",
       "        vertical-align: top;\n",
       "    }\n",
       "\n",
       "    .dataframe thead th {\n",
       "        text-align: right;\n",
       "    }\n",
       "</style>\n",
       "<table border=\"1\" class=\"dataframe\">\n",
       "  <thead>\n",
       "    <tr style=\"text-align: right;\">\n",
       "      <th></th>\n",
       "      <th>OBJECTID</th>\n",
       "      <th>COASTBND</th>\n",
       "      <th>DATESTAMP</th>\n",
       "      <th>ShapeSTLen</th>\n",
       "      <th>geometry</th>\n",
       "    </tr>\n",
       "  </thead>\n",
       "  <tbody>\n",
       "    <tr>\n",
       "      <th>0</th>\n",
       "      <td>1</td>\n",
       "      <td>C</td>\n",
       "      <td>2000-05-16</td>\n",
       "      <td>15701.109304</td>\n",
       "      <td>LINESTRING (-81.50068 30.55978, -81.50273 30.5...</td>\n",
       "    </tr>\n",
       "    <tr>\n",
       "      <th>1</th>\n",
       "      <td>2</td>\n",
       "      <td>C</td>\n",
       "      <td>2000-05-16</td>\n",
       "      <td>6079.644833</td>\n",
       "      <td>LINESTRING (-87.14553 30.34786, -87.14090 30.3...</td>\n",
       "    </tr>\n",
       "    <tr>\n",
       "      <th>2</th>\n",
       "      <td>3</td>\n",
       "      <td>B</td>\n",
       "      <td>2000-05-16</td>\n",
       "      <td>38227.473432</td>\n",
       "      <td>LINESTRING (-85.39133 30.03337, -85.39151 30.0...</td>\n",
       "    </tr>\n",
       "    <tr>\n",
       "      <th>3</th>\n",
       "      <td>4</td>\n",
       "      <td>B</td>\n",
       "      <td>2000-05-16</td>\n",
       "      <td>175609.568024</td>\n",
       "      <td>LINESTRING (-83.36718 30.26072, -83.36726 30.2...</td>\n",
       "    </tr>\n",
       "    <tr>\n",
       "      <th>4</th>\n",
       "      <td>5</td>\n",
       "      <td>B</td>\n",
       "      <td>2000-05-16</td>\n",
       "      <td>15862.551972</td>\n",
       "      <td>LINESTRING (-82.04936 30.18684, -82.04939 30.1...</td>\n",
       "    </tr>\n",
       "  </tbody>\n",
       "</table>\n",
       "</div>"
      ],
      "text/plain": [
       "   OBJECTID COASTBND   DATESTAMP     ShapeSTLen  \\\n",
       "0         1        C  2000-05-16   15701.109304   \n",
       "1         2        C  2000-05-16    6079.644833   \n",
       "2         3        B  2000-05-16   38227.473432   \n",
       "3         4        B  2000-05-16  175609.568024   \n",
       "4         5        B  2000-05-16   15862.551972   \n",
       "\n",
       "                                            geometry  \n",
       "0  LINESTRING (-81.50068 30.55978, -81.50273 30.5...  \n",
       "1  LINESTRING (-87.14553 30.34786, -87.14090 30.3...  \n",
       "2  LINESTRING (-85.39133 30.03337, -85.39151 30.0...  \n",
       "3  LINESTRING (-83.36718 30.26072, -83.36726 30.2...  \n",
       "4  LINESTRING (-82.04936 30.18684, -82.04939 30.1...  "
      ]
     },
     "execution_count": 2,
     "metadata": {},
     "output_type": "execute_result"
    }
   ],
   "source": [
    "FL = gpd.read_file('Florida_County_Lines.shp')\n",
    "FL.head()"
   ]
  },
  {
   "cell_type": "code",
   "execution_count": null,
   "id": "a46542d0",
   "metadata": {},
   "outputs": [],
   "source": [
    "import pandas as pd\n",
    "\n",
    "state_pop = pd.read_csv()"
   ]
  }
 ],
 "metadata": {
  "kernelspec": {
   "display_name": "Python 3 (ipykernel)",
   "language": "python",
   "name": "python3"
  },
  "language_info": {
   "codemirror_mode": {
    "name": "ipython",
    "version": 3
   },
   "file_extension": ".py",
   "mimetype": "text/x-python",
   "name": "python",
   "nbconvert_exporter": "python",
   "pygments_lexer": "ipython3",
   "version": "3.10.6"
  }
 },
 "nbformat": 4,
 "nbformat_minor": 5
}
